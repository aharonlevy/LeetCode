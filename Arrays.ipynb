{
 "cells": [
  {
   "cell_type": "markdown",
   "metadata": {},
   "source": [
    "1920. Build Array from Permutation\n",
    "Given a zero-based permutation nums (0-indexed), build an array ans of the same length where ans[i] = nums[nums[i]] for each 0 <= i < nums.length and return it.\n",
    "\n",
    "A zero-based permutation nums is an array of distinct integers from 0 to nums.length - 1 (inclusive)."
   ]
  },
  {
   "cell_type": "code",
   "execution_count": null,
   "metadata": {},
   "outputs": [],
   "source": [
    "def buildArray(self, nums):\n",
    "        \"\"\"\n",
    "        :type nums: List[int]\n",
    "        :rtype: List[int]\n",
    "        \"\"\"\n",
    "        array_pointer = 0\n",
    "        ans = []\n",
    "        while array_pointer < len(nums):\n",
    "            ans.append(nums[nums[array_pointer]])\n",
    "            array_pointer += 1\n",
    "        return ans"
   ]
  },
  {
   "cell_type": "markdown",
   "metadata": {},
   "source": [
    "1929. Concatenation of Array\n",
    "    Given an integer array nums of length n, you want to create an array ans of length 2n where ans[i] == nums[i] and ans[i + n] == nums[i] for 0 <= i < n (0-indexed).\n",
    "\n",
    "    Specifically, ans is the concatenation of two nums arrays.\n",
    "\n",
    "    Return the array ans."
   ]
  },
  {
   "cell_type": "code",
   "execution_count": null,
   "metadata": {},
   "outputs": [],
   "source": [
    "def getConcatenation(self, nums):\n",
    "    \"\"\"\n",
    "    :type nums: List[int]\n",
    "    :rtype: List[int]\n",
    "    \"\"\"\n",
    "    return nums*2"
   ]
  },
  {
   "cell_type": "markdown",
   "metadata": {},
   "source": [
    "1480. Running Sum of 1d Array\n",
    "    Given an array nums. We define a running sum of an array as runningSum[i] = sum(nums[0]…nums[i]).\n",
    "\n",
    "    Return the running sum of nums."
   ]
  },
  {
   "cell_type": "code",
   "execution_count": null,
   "metadata": {},
   "outputs": [],
   "source": [
    "def runningSum(self, nums):\n",
    "    \"\"\"\n",
    "    :type nums: List[int]\n",
    "    :rtype: List[int]\n",
    "    \"\"\"\n",
    "    runningSum = []\n",
    "    currentSum = 0\n",
    "    for number in nums:\n",
    "        currentSum += number\n",
    "        runningSum.append(currentSum)\n",
    "    return runningSum"
   ]
  },
  {
   "cell_type": "markdown",
   "metadata": {},
   "source": [
    "2011. Final Value of Variable After Performing Operations\n",
    "    There is a programming language with only four operations and one variable X:\n",
    "\n",
    "    ++X and X++ increments the value of the variable X by 1.\n",
    "    --X and X-- decrements the value of the variable X by 1.\n",
    "    Initially, the value of X is 0.\n",
    "\n",
    "    Given an array of strings operations containing a list of operations, return the final value of X after performing all the operations."
   ]
  },
  {
   "cell_type": "code",
   "execution_count": null,
   "metadata": {},
   "outputs": [],
   "source": [
    "\n",
    "def finalValueAfterOperations(self, operations):\n",
    "    \"\"\"\n",
    "    :type operations: List[str]\n",
    "    :rtype: int\n",
    "    \"\"\"\n",
    "    currentScore = 0\n",
    "    for operand in operations:\n",
    "        if operand == \"++X\" or operand == \"X++\":\n",
    "            currentScore += 1\n",
    "        else:\n",
    "            currentScore -= 1\n",
    "    return currentScore\n",
    "        "
   ]
  }
 ],
 "metadata": {
  "kernelspec": {
   "display_name": "Python 3.10.7 64-bit",
   "language": "python",
   "name": "python3"
  },
  "language_info": {
   "name": "python",
   "version": "3.10.7"
  },
  "orig_nbformat": 4,
  "vscode": {
   "interpreter": {
    "hash": "7038670045c4977e34a511e5e7c803e73aa3d2a9363a553c15b6b16658fe300f"
   }
  }
 },
 "nbformat": 4,
 "nbformat_minor": 2
}
